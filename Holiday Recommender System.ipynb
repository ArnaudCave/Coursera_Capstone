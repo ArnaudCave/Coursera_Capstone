{
    "nbformat_minor": 1, 
    "cells": [
        {
            "source": "<h1>Holiday Destination Recommender System</h1>", 
            "cell_type": "markdown", 
            "metadata": {
                "collapsed": true
            }
        }, 
        {
            "source": "<h2>Introduction/Business Problem</h2>\nTravel agencies make money by organizing travels for their clients. People who want to go on holiday do not always know precisely where they want to go. They might just have a broad idea of what the travel should look like. A recommender system could help the travel agent by providing ideas of trips to suggest to its clients. A recommender system could also be offered to clients on a website. In this case, I'm thinking of a recommender system where the client is asked to rate a few destinations that he knows and is then provided with a list of suggestions based on destinations he has \"liked\". Destinations would be characterized by the existence of certain categories of venues. The audience for this project would be the owners/managers of a travel agency looking to improve the services they offer to their clients and ultimately to improve their profits.", 
            "cell_type": "markdown", 
            "metadata": {}
        }, 
        {
            "source": "<h2>Data</h2>\nI would first need to determine a list of travel destinations. Entering \"top 100 travel destinations\" in Google provides a number of interesting propositions. Scraping a list from one of these websites should be possible. Latitude and longitude for each of these destinations would then need to be retrieved. To do this, I'll probably use the Geocoder function that we discovered in a previous module. For each destination, I would use the Foursquare API to get the venues in the area. I would then characterize the destinations in function of the availability of certain categories of venues (beach bars, shops, ski stations...). This should enable me to implement a content-based recomender system.", 
            "cell_type": "markdown", 
            "metadata": {}
        }, 
        {
            "source": "", 
            "cell_type": "code", 
            "metadata": {}, 
            "outputs": [], 
            "execution_count": null
        }
    ], 
    "metadata": {
        "kernelspec": {
            "display_name": "Python 3.5", 
            "name": "python3", 
            "language": "python"
        }, 
        "language_info": {
            "mimetype": "text/x-python", 
            "nbconvert_exporter": "python", 
            "version": "3.5.5", 
            "name": "python", 
            "pygments_lexer": "ipython3", 
            "file_extension": ".py", 
            "codemirror_mode": {
                "version": 3, 
                "name": "ipython"
            }
        }
    }, 
    "nbformat": 4
}